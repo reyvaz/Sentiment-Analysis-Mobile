{
 "cells": [
  {
   "cell_type": "markdown",
   "metadata": {},
   "source": [
    "<br>\n",
    "<br>\n",
    "\n",
    "# Sentiment Classification\n",
    "***Reynaldo Vazquez***  \n",
    "***April, 2018***\n",
    "\n",
    "**[GitHub Pages](https://reyvaz.github.io/Sentiment-Analysis-Mobile/)**\n",
    "\n",
    "## Sentiment Classification on Mobile Phone User Reviews\n",
    "\n",
    "Different specifications of Multinomial Naïve-Bayes, Logistic-Regression, and Support Vector Machine, with varying features complexities were tested in order to classify user reviews as positive or negative. This notebook reports on the best performing model tested, which is a Logistic Regression on words, bigrams, and trigrams. The model achieves 99% precision and recall, 98% accuracy, and 97% ROC AUC. \n",
    "\n",
    "The dataset used contains over 400,000 reviews of mobile phones sold on Amazon extracted by [PromptCloud](https://www.promptcloud.com/). It was downloaded from [Kaggle](https://www.kaggle.com/PromptCloudHQ/amazon-reviews-unlocked-mobile-phones) on November 16, 2017. From this dataset, only the columns `Rating` and `Review` were used. \n",
    "\n",
    "The dataset does not contain actual positive or negative labels, sentiments were implied from ratings left by the reviewing customers. The original ratings consist of a scale from 1 to 5, with 5 as the most favorable rating. Ratings of 4 and 5 were assumed to be positive, 1 and 2 negative, and 3 neutral. Reviews deemed neutral were discarded. With this scheme, ~3/4 of the reviews in the original dataset were labeled as positive and ~1/4 as negative. \n",
    "\n",
    "- `sentiment_utils.py` can be found [here](link)\n",
    "- `cm_heat_plots.py` can be found [here](link)\n",
    "\n",
    "\n",
    "<img src=\"media/mobile_phone.png\" style=\"width:200px;padding:30px\" align=\"left\">\n",
    "\n",
    "#### Model Performance Metrics\n",
    "```\n",
    "Model: Logistic Regression \n",
    "Train Accuracy = 1.00\n",
    "Test Accuracy  = 0.98\n",
    "Recall  = 0.99\n",
    "Precision  = 0.99\n",
    "ROC AUC  = 0.97\n",
    "```"
   ]
  },
  {
   "cell_type": "markdown",
   "metadata": {},
   "source": [
    "### Packages"
   ]
  },
  {
   "cell_type": "code",
   "execution_count": 1,
   "metadata": {},
   "outputs": [],
   "source": [
    "import pandas as pd\n",
    "import numpy as np\n",
    "import os\n",
    "from sklearn.model_selection import train_test_split\n",
    "from sklearn.metrics import accuracy_score, confusion_matrix\n",
    "from sklearn.metrics import recall_score, precision_score, roc_auc_score\n",
    "from sklearn.linear_model import LogisticRegression\n",
    "from sklearn.feature_extraction.text import CountVectorizer\n",
    "import matplotlib.pyplot as plt\n",
    "from cm_heat_plots import *\n",
    "from my_nlp_paths import *\n",
    "from sentiment_utils import *\n",
    "import time\n",
    "np.random.seed(1)\n",
    "%matplotlib inline"
   ]
  },
  {
   "cell_type": "markdown",
   "metadata": {},
   "source": [
    "### Data Processing"
   ]
  },
  {
   "cell_type": "code",
   "execution_count": 2,
   "metadata": {},
   "outputs": [
    {
     "name": "stdout",
     "output_type": "stream",
     "text": [
      "Imported data shape:  (413840, 2)\n",
      "Column names: ['rating', 'reviews']\n",
      "Original rating levels: [1, 2, 3, 4, 5]\n"
     ]
    }
   ],
   "source": [
    "df = pd.read_csv(reviews_data_path, usecols = [3, 4])\n",
    "df.columns = df.columns.str.lower()\n",
    "print('Imported data shape: ', df.shape)\n",
    "print('Column names:', list(df.columns))\n",
    "print('Original rating levels:', sorted(df['rating'].unique()))"
   ]
  },
  {
   "cell_type": "code",
   "execution_count": 3,
   "metadata": {},
   "outputs": [
    {
     "name": "stdout",
     "output_type": "stream",
     "text": [
      "62 rows contain NaN\n",
      "Shape after dropping NaNs: [413778, 2]\n"
     ]
    }
   ],
   "source": [
    "nans = df.isnull().any(axis = 1)\n",
    "print(nans.sum(), 'rows contain NaN')\n",
    "df.dropna(inplace=True)\n",
    "print('Shape after dropping NaNs:', list(df.shape))"
   ]
  },
  {
   "cell_type": "code",
   "execution_count": 4,
   "metadata": {},
   "outputs": [
    {
     "name": "stdout",
     "output_type": "stream",
     "text": [
      "Total neutral raitings: 31763\n",
      "Shape after elimintating neutral ratings: [382015, 2]\n"
     ]
    }
   ],
   "source": [
    "print('Total neutral raitings:', sum(df['rating'] == 3))\n",
    "df = df[df['rating'] != 3]\n",
    "print('Shape after elimintating neutral ratings:', list(df.shape))"
   ]
  },
  {
   "cell_type": "code",
   "execution_count": 5,
   "metadata": {},
   "outputs": [
    {
     "name": "stdout",
     "output_type": "stream",
     "text": [
      "Fraction of positive ratings: 0.7459235893878513\n"
     ]
    }
   ],
   "source": [
    "df = df.assign(positive = np.where(df['rating'] > 3, 1, 0))\n",
    "print('Fraction of positive ratings:', df['positive'].mean())"
   ]
  },
  {
   "cell_type": "code",
   "execution_count": 6,
   "metadata": {},
   "outputs": [
    {
     "name": "stdout",
     "output_type": "stream",
     "text": [
      "Created classes:\n",
      "['Negative', 'Positive']\n"
     ]
    }
   ],
   "source": [
    "classes_dict = {0:'Negative', 1:'Positive'}\n",
    "classes = list(classes_dict.values())\n",
    "print(\"Created classes:\\n\" + str(classes))"
   ]
  },
  {
   "cell_type": "code",
   "execution_count": 7,
   "metadata": {},
   "outputs": [
    {
     "name": "stdout",
     "output_type": "stream",
     "text": [
      "max review length (word count): 5313\n",
      "average review length: 39.20512807088727\n",
      "median review length: 17.0\n"
     ]
    }
   ],
   "source": [
    "review_lengths = [len(x.split()) for x in df[\"reviews\"]]\n",
    "max_len =  np.max(review_lengths)\n",
    "mean_len = np.mean(review_lengths)\n",
    "median_len = np.median(review_lengths)\n",
    "print(\"max review length (word count):\", max_len)\n",
    "print(\"average review length:\", mean_len)\n",
    "print(\"median review length:\", median_len)"
   ]
  },
  {
   "cell_type": "markdown",
   "metadata": {},
   "source": [
    "#### Split dataset for training and testing"
   ]
  },
  {
   "cell_type": "code",
   "execution_count": 8,
   "metadata": {},
   "outputs": [],
   "source": [
    "Y = df['positive']\n",
    "X = df['reviews']"
   ]
  },
  {
   "cell_type": "code",
   "execution_count": 9,
   "metadata": {},
   "outputs": [
    {
     "name": "stdout",
     "output_type": "stream",
     "text": [
      "X_train shape: (286511,)\n",
      "Y_train shape: (286511,)\n",
      "Fraction of positive reviews in training dataset: 0.7463587785460244\n"
     ]
    }
   ],
   "source": [
    "X_train, X_test, Y_train, Y_test = train_test_split(X, Y, random_state = 0)\n",
    "print('X_train shape:', X_train.shape)\n",
    "print('Y_train shape:', Y_train.shape)\n",
    "print('Fraction of positive reviews in training dataset:', Y_train.mean())"
   ]
  },
  {
   "cell_type": "markdown",
   "metadata": {
    "collapsed": true
   },
   "source": [
    "### Training and reporting function\n",
    "Trains and returns the trained specified model. Prints model performance metrics."
   ]
  },
  {
   "cell_type": "code",
   "execution_count": 10,
   "metadata": {},
   "outputs": [],
   "source": [
    "def run_model(X_train, Y_train, X_test, Y_test, model):\n",
    "    \"\"\"\n",
    "    Trains the specified model, calculates predictions, and returns and prints the\n",
    "    classification report and performance metrics.\n",
    "    \"\"\"\n",
    "    print(\"Model:\", str(model).split(\"(\")[0], \"\\n\")\n",
    "    start_time = time.time()\n",
    "    trained_model = model.fit(X_train, Y_train)\n",
    "    elapsed_time = time.time() - start_time\n",
    "    predicted_Y_test = trained_model.predict(X_test)\n",
    "    predicted_Y_train = trained_model.predict(X_train)\n",
    "    train_acc = accuracy_score(Y_train, predicted_Y_train)\n",
    "    test_acc = accuracy_score(Y_test, predicted_Y_test)\n",
    "    auc  = roc_auc_score(Y_test, predicted_Y_test)\n",
    "    prec = precision_score(Y_test, predicted_Y_test)\n",
    "    rec  = recall_score(Y_test, predicted_Y_test)\n",
    "    print(\"Train Accuracy =\", str(format(train_acc, '.2f')))\n",
    "    print(\"Test Accuracy  =\", str(format(test_acc, '.2f')))\n",
    "    print(\"Recall  =\", str(format(rec, '.2f')))\n",
    "    print(\"Precision  =\", str(format(prec, '.2f')))\n",
    "    print(\"ROC AUC  =\", str(format(auc, '.2f')))\n",
    "    print(\"Training time:\", int(elapsed_time), \"seconds\")\n",
    "    return trained_model"
   ]
  },
  {
   "cell_type": "markdown",
   "metadata": {},
   "source": [
    "### Feature specification:  words, bigrams, and trigrams with document frequency > 1\n",
    "Ignoring terms that have a document frequency strictly lower than 2"
   ]
  },
  {
   "cell_type": "code",
   "execution_count": 11,
   "metadata": {},
   "outputs": [],
   "source": [
    "vect = CountVectorizer(min_df=2, ngram_range=(1,3)).fit(X_train)\n",
    "X_train_vect = vect.transform(X_train)\n",
    "X_test_vect  = vect.transform(X_test)"
   ]
  },
  {
   "cell_type": "markdown",
   "metadata": {},
   "source": [
    "### Logistic Regression Model"
   ]
  },
  {
   "cell_type": "code",
   "execution_count": 12,
   "metadata": {},
   "outputs": [
    {
     "name": "stdout",
     "output_type": "stream",
     "text": [
      "Model: LogisticRegression \n",
      "\n",
      "Train Accuracy = 1.00\n",
      "Test Accuracy  = 0.98\n",
      "Recall  = 0.99\n",
      "Precision  = 0.99\n",
      "ROC AUC  = 0.97\n",
      "Training time: 241 seconds\n"
     ]
    }
   ],
   "source": [
    "lr = LogisticRegression(C = 10)\n",
    "lr_trained = run_model(X_train_vect, Y_train, X_test_vect, Y_test, lr)"
   ]
  },
  {
   "cell_type": "markdown",
   "metadata": {},
   "source": [
    "### Influential Features"
   ]
  },
  {
   "cell_type": "code",
   "execution_count": 13,
   "metadata": {},
   "outputs": [],
   "source": [
    "coefficients = lr_trained.coef_[0]\n",
    "features = influential_features(coefficients, vect, num_features = 12)"
   ]
  },
  {
   "cell_type": "code",
   "execution_count": 14,
   "metadata": {},
   "outputs": [
    {
     "name": "stdout",
     "output_type": "stream",
     "text": [
      "Influential positive features (coefficients):\n",
      "\n",
      "excelent       5.837680\n",
      "not bad        5.353443\n",
      "excellent      4.939210\n",
      "perfect        4.794807\n",
      "excelente      4.673470\n",
      "no problems    4.134251\n",
      "awesome        3.991098\n",
      "amazing        3.843660\n",
      "great          3.780663\n",
      "exelente       3.726202\n",
      "no issues      3.649203\n",
      "no problem     3.398192\n",
      "dtype: float64 \n",
      "\n",
      "Influential negative features (coefficients):\n",
      "\n",
      "no good     -5.347942\n",
      "junk        -4.799142\n",
      "not good    -4.274680\n",
      "worst       -4.196605\n",
      "horrible    -4.153863\n",
      "terrible    -3.990539\n",
      "poor        -3.692953\n",
      "garbage     -3.658424\n",
      "nope        -3.562117\n",
      "sucks       -3.538783\n",
      "awful       -3.420538\n",
      "defective   -3.360209\n",
      "dtype: float64\n"
     ]
    }
   ],
   "source": [
    "print(\"Influential positive features (coefficients):\\n\")\n",
    "print(features[0], \"\\n\")\n",
    "print(\"Influential negative features (coefficients):\\n\")\n",
    "print(features[1])"
   ]
  },
  {
   "cell_type": "code",
   "execution_count": 15,
   "metadata": {},
   "outputs": [
    {
     "name": "stdout",
     "output_type": "stream",
     "text": [
      "\n",
      "\n"
     ]
    },
    {
     "data": {
      "image/png": "[encoded data removed]",
      "text/plain": [
       "<matplotlib.figure.Figure at 0x1a12eb0c18>"
      ]
     },
     "metadata": {},
     "output_type": "display_data"
    },
    {
     "name": "stdout",
     "output_type": "stream",
     "text": [
      "\n",
      "\n"
     ]
    }
   ],
   "source": [
    "plot_features(features, \"Logistic Regression\", classes = classes, label_rotation = 20, save_fig = False)"
   ]
  },
  {
   "cell_type": "markdown",
   "metadata": {},
   "source": [
    "### Prediction time and confusion matrix"
   ]
  },
  {
   "cell_type": "code",
   "execution_count": 16,
   "metadata": {},
   "outputs": [
    {
     "name": "stdout",
     "output_type": "stream",
     "text": [
      "Time to calculate 95504 predictions with LogisticRegression model: 0.1197 seconds\n"
     ]
    }
   ],
   "source": [
    "lr_predictions = predict_and_time(lr_trained, X_test_vect)"
   ]
  },
  {
   "cell_type": "code",
   "execution_count": 17,
   "metadata": {},
   "outputs": [
    {
     "data": {
      "image/png": "[encoded data removed]",
      "text/plain": [
       "<matplotlib.figure.Figure at 0x1a128936a0>"
      ]
     },
     "metadata": {},
     "output_type": "display_data"
    }
   ],
   "source": [
    "cm_lr = confusion_matrix(Y_test, lr_predictions)\n",
    "heated_confusion_matrix(cm = cm_lr, labels = classes, cmap = plt.cm.Blues, \n",
    "                        contrast = 3, model_name = \"Logistic Regression \\nSentiment Classification\", \n",
    "                        p_size = 5.5, save_fig = False)"
   ]
  }
 ],
 "metadata": {
  "kernelspec": {
   "display_name": "Python 3",
   "language": "python",
   "name": "python3"
  },
  "language_info": {
   "codemirror_mode": {
    "name": "ipython",
    "version": 3
   },
   "file_extension": ".py",
   "mimetype": "text/x-python",
   "name": "python",
   "nbconvert_exporter": "python",
   "pygments_lexer": "ipython3",
   "version": "3.6.4"
  }
 },
 "nbformat": 4,
 "nbformat_minor": 2
}
