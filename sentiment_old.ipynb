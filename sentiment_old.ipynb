{
 "cells": [
  {
   "cell_type": "markdown",
   "metadata": {
    "collapsed": true
   },
   "source": [
    "# Sentiment Analysis on Mobile Phone User Reviews\n",
    "***Reynaldo Vazquez***  \n",
    "***November 17, 2017***\n",
    "\n",
    "**[GitHub Pages](https://reyvaz.github.io/Sentiment-Analysis-Mobile/)**\n",
    "\n",
    "## Tests different algorithms for sentiment classification of user reviews\n",
    "\n",
    "\n",
    "Different specifications of Naïve-Bayes and Logistic-Regression with varying parameters and model complexity are tested in order to classify user reviews as positive or negative. \n",
    "\n",
    "The dataset used contains over 400 thousand reviews of mobile phones sold on Amazon extracted by [PromptCloud](https://www.promptcloud.com/). It was downloaded from [Kaggle](https://www.kaggle.com/PromptCloudHQ/amazon-reviews-unlocked-mobile-phones) on November 16, 2017. From this dataset, only the columns `Rating` and `Review` were used for the analysis. \n",
    "\n",
    "Original ratings consist of a scale from 1 to 5, with 5 as the most favorable rating. Ratings of 4 and 5 were assumed to be positive, 1 and 2 negative, and 3 neutral. Reviews deemed neutral were discarded. With this scheme, ~3/4 of the reviews in the original dataset were labeled as positive and ~1/4 as negative. \n",
    "\n",
    "If corrective measures (learning from deficiencies) are the main purpose of this classification, given the setup of the model, precision would make for a better metric of focus. i.e. make sure that reviews classified as positive are actually positive. However, more generally, the nature of this problem does not allocate more importance to misclassification of negative reviews as positive or vice-versa. Additionally, even though the dataset is somewhat unbalanced, both classes are well (relatively) represented. With this in mind, main emphasis is placed on maximizing the area under the ROC curve and accuracy. Nevertheless, precision and recall are also individually considered.\n",
    "\n",
    "The best performing algorithm is a Logistic Regression with regularization parameter C = 10 on words and bigrams with document frequencies of at least 2 in the training dataset. Its performance metrics on the test set are as follow,\n",
    "\n",
    "```\n",
    "\t                                   Param\tAccuracy\tRecall\t Precision\t ROC AUC\n",
    "Model: LogisticRegression (ngrams)\tC = 10\t0.980189\t0.988610\t0.984843\t0.972124\n",
    "```"
   ]
  },
  {
   "cell_type": "markdown",
   "metadata": {},
   "source": [
    "### Importing the dataset"
   ]
  },
  {
   "cell_type": "code",
   "execution_count": 1,
   "metadata": {},
   "outputs": [
    {
     "name": "stdout",
     "output_type": "stream",
     "text": [
      "\n",
      "Imported data shape:  (413840, 2)\n",
      "Column names: ['Rating', 'Reviews']\n",
      "Rating levels: [1, 2, 3, 4, 5]\n"
     ]
    }
   ],
   "source": [
    "import pandas as pd\n",
    "import numpy as np\n",
    "df = pd.read_csv('amazon-reviews-unlocked-mobile-phones.zip', usecols = [3, 4])\n",
    "pd.set_option('display.max_colwidth', 90)\n",
    "pd.set_option('display.width', 110)\n",
    "print('\\nImported data shape: ', df.shape)\n",
    "print('Column names:', list(df.columns))\n",
    "df.head()\n",
    "print('Rating levels:', sorted(df['Rating'].unique()))"
   ]
  },
  {
   "cell_type": "markdown",
   "metadata": {},
   "source": [
    "### Drop missing values"
   ]
  },
  {
   "cell_type": "code",
   "execution_count": 2,
   "metadata": {},
   "outputs": [
    {
     "name": "stdout",
     "output_type": "stream",
     "text": [
      "62 rows contain NaN\n",
      "Shape after dropping NaNs: [413778, 2]\n"
     ]
    }
   ],
   "source": [
    "nans = df.isnull().any(axis = 1)\n",
    "print(nans.sum(), 'rows contain NaN')\n",
    "df.dropna(inplace=True)\n",
    "print('Shape after dropping NaNs:', list(df.shape))"
   ]
  },
  {
   "cell_type": "markdown",
   "metadata": {},
   "source": [
    "### Remove ratings equal to 3\n",
    "Ratings equal to 3 are deemed neutral"
   ]
  },
  {
   "cell_type": "code",
   "execution_count": 3,
   "metadata": {},
   "outputs": [
    {
     "name": "stdout",
     "output_type": "stream",
     "text": [
      "Total neutral raitings: 31763\n",
      "Shape after elimintating neutral ratings: [382015, 2]\n"
     ]
    }
   ],
   "source": [
    "print('Total neutral raitings:', sum(df['Rating'] == 3))\n",
    "df = df[df['Rating'] != 3]\n",
    "print('Shape after elimintating neutral ratings:', list(df.shape))"
   ]
  },
  {
   "cell_type": "markdown",
   "metadata": {},
   "source": [
    "### Encode ratings as positive or negative\n",
    "Ratings of 4 and 5 are considered positve. Ratings of 1 and 2 are considered negative"
   ]
  },
  {
   "cell_type": "code",
   "execution_count": 4,
   "metadata": {},
   "outputs": [
    {
     "name": "stdout",
     "output_type": "stream",
     "text": [
      "Fraction of positive ratings: 0.7459235893878513\n"
     ]
    },
    {
     "data": {
      "text/html": [
       "<div>\n",
       "<style scoped>\n",
       "    .dataframe tbody tr th:only-of-type {\n",
       "        vertical-align: middle;\n",
       "    }\n",
       "\n",
       "    .dataframe tbody tr th {\n",
       "        vertical-align: top;\n",
       "    }\n",
       "\n",
       "    .dataframe thead th {\n",
       "        text-align: right;\n",
       "    }\n",
       "</style>\n",
       "<table border=\"1\" class=\"dataframe\">\n",
       "  <thead>\n",
       "    <tr style=\"text-align: right;\">\n",
       "      <th></th>\n",
       "      <th>Rating</th>\n",
       "      <th>Reviews</th>\n",
       "      <th>Positive</th>\n",
       "    </tr>\n",
       "  </thead>\n",
       "  <tbody>\n",
       "    <tr>\n",
       "      <th>0</th>\n",
       "      <td>5</td>\n",
       "      <td>I feel so LUCKY to have found this used (phone to us &amp; not used hard at all), phone on...</td>\n",
       "      <td>1</td>\n",
       "    </tr>\n",
       "    <tr>\n",
       "      <th>1</th>\n",
       "      <td>4</td>\n",
       "      <td>nice phone, nice up grade from my pantach revue. Very clean set up and easy set up. ne...</td>\n",
       "      <td>1</td>\n",
       "    </tr>\n",
       "    <tr>\n",
       "      <th>2</th>\n",
       "      <td>5</td>\n",
       "      <td>Very pleased</td>\n",
       "      <td>1</td>\n",
       "    </tr>\n",
       "    <tr>\n",
       "      <th>3</th>\n",
       "      <td>4</td>\n",
       "      <td>It works good but it goes slow sometimes but its a very good phone I love it</td>\n",
       "      <td>1</td>\n",
       "    </tr>\n",
       "    <tr>\n",
       "      <th>4</th>\n",
       "      <td>4</td>\n",
       "      <td>Great phone to replace my lost phone. The only thing is the volume up button does not ...</td>\n",
       "      <td>1</td>\n",
       "    </tr>\n",
       "  </tbody>\n",
       "</table>\n",
       "</div>"
      ],
      "text/plain": [
       "   Rating                                                                                    Reviews  \\\n",
       "0       5  I feel so LUCKY to have found this used (phone to us & not used hard at all), phone on...   \n",
       "1       4  nice phone, nice up grade from my pantach revue. Very clean set up and easy set up. ne...   \n",
       "2       5                                                                               Very pleased   \n",
       "3       4               It works good but it goes slow sometimes but its a very good phone I love it   \n",
       "4       4  Great phone to replace my lost phone. The only thing is the volume up button does not ...   \n",
       "\n",
       "   Positive  \n",
       "0         1  \n",
       "1         1  \n",
       "2         1  \n",
       "3         1  \n",
       "4         1  "
      ]
     },
     "execution_count": 4,
     "metadata": {},
     "output_type": "execute_result"
    }
   ],
   "source": [
    "df = df.assign(Positive = np.where(df['Rating'] > 3, 1, 0))\n",
    "print('Fraction of positive ratings:', df['Positive'].mean())\n",
    "df.head()"
   ]
  },
  {
   "cell_type": "markdown",
   "metadata": {},
   "source": [
    "### Split dataset into training and testing"
   ]
  },
  {
   "cell_type": "code",
   "execution_count": 5,
   "metadata": {},
   "outputs": [],
   "source": [
    "from sklearn.model_selection import train_test_split\n",
    "X_train, X_test, y_train, y_test = train_test_split(df['Reviews'], \n",
    "                                                    df['Positive'], \n",
    "                                                    random_state=0)"
   ]
  },
  {
   "cell_type": "markdown",
   "metadata": {},
   "source": [
    "### Set up function that will calculate performance metrics and populate comparison matrix"
   ]
  },
  {
   "cell_type": "code",
   "execution_count": 6,
   "metadata": {},
   "outputs": [],
   "source": [
    "from sklearn.metrics import (roc_auc_score, accuracy_score, recall_score, \n",
    "                             precision_score)\n",
    "\n",
    "def get_metrics(X_to_test, model, notes, y_test = y_test):\n",
    "    '''\n",
    "    Calculates model performance metrics and populates model comparison matrix\n",
    "    '''\n",
    "    model.fit(X_train_transformed, y_train)\n",
    "    predictions = model.predict(X_to_test)\n",
    "    auc  = roc_auc_score(y_test, predictions)\n",
    "    acc  = accuracy_score(y_test, predictions)\n",
    "    rec  = recall_score(y_test, predictions)\n",
    "    prec = precision_score(y_test, predictions)\n",
    "    model_name = str(model)[0:str(model).index('(')] + features_model\n",
    "    metrics.loc[len(metrics)] = [model_name, notes, acc, rec, prec, auc]"
   ]
  },
  {
   "cell_type": "markdown",
   "metadata": {},
   "source": [
    "### Set up classification specifications to be tested\n",
    "Naive-Bayes and Linear Regression with varying parameters"
   ]
  },
  {
   "cell_type": "code",
   "execution_count": 7,
   "metadata": {},
   "outputs": [],
   "source": [
    "from sklearn.naive_bayes import MultinomialNB\n",
    "from sklearn.linear_model import LogisticRegression\n",
    "\n",
    "def test_models():\n",
    "    for param in [0.01, 0.1]:\n",
    "        notes = 'alpha = ' + str(param)\n",
    "        get_metrics(X_test_transformed, MultinomialNB(alpha=param), notes)\n",
    "    for param in [1, 10]:\n",
    "        notes = 'C = ' + str(param)\n",
    "        get_metrics(X_test_transformed, LogisticRegression(C = param), notes)"
   ]
  },
  {
   "cell_type": "markdown",
   "metadata": {},
   "source": [
    "### Set up performance comparison Matrix"
   ]
  },
  {
   "cell_type": "code",
   "execution_count": 8,
   "metadata": {},
   "outputs": [],
   "source": [
    "colnames = ['Model', 'Param', 'Accuracy', 'Recall', 'Precision', 'ROC AUC']\n",
    "metrics =  pd.DataFrame(columns = colnames)  "
   ]
  },
  {
   "cell_type": "markdown",
   "metadata": {},
   "source": [
    "### Feature Specification 1:  Features built using CountVectorizer with default settings\n",
    "#### i.e. features are all the words in the training set, and no extra features"
   ]
  },
  {
   "cell_type": "code",
   "execution_count": 9,
   "metadata": {},
   "outputs": [
    {
     "data": {
      "text/html": [
       "<div>\n",
       "<style scoped>\n",
       "    .dataframe tbody tr th:only-of-type {\n",
       "        vertical-align: middle;\n",
       "    }\n",
       "\n",
       "    .dataframe tbody tr th {\n",
       "        vertical-align: top;\n",
       "    }\n",
       "\n",
       "    .dataframe thead th {\n",
       "        text-align: right;\n",
       "    }\n",
       "</style>\n",
       "<table border=\"1\" class=\"dataframe\">\n",
       "  <thead>\n",
       "    <tr style=\"text-align: right;\">\n",
       "      <th></th>\n",
       "      <th>Param</th>\n",
       "      <th>Accuracy</th>\n",
       "      <th>Recall</th>\n",
       "      <th>Precision</th>\n",
       "      <th>ROC AUC</th>\n",
       "    </tr>\n",
       "    <tr>\n",
       "      <th>Model</th>\n",
       "      <th></th>\n",
       "      <th></th>\n",
       "      <th></th>\n",
       "      <th></th>\n",
       "      <th></th>\n",
       "    </tr>\n",
       "  </thead>\n",
       "  <tbody>\n",
       "    <tr>\n",
       "      <th>MultinomialNB (words)</th>\n",
       "      <td>alpha = 0.01</td>\n",
       "      <td>0.928516</td>\n",
       "      <td>0.957856</td>\n",
       "      <td>0.946766</td>\n",
       "      <td>0.900412</td>\n",
       "    </tr>\n",
       "    <tr>\n",
       "      <th>MultinomialNB (words)</th>\n",
       "      <td>alpha = 0.1</td>\n",
       "      <td>0.927783</td>\n",
       "      <td>0.956717</td>\n",
       "      <td>0.946851</td>\n",
       "      <td>0.900068</td>\n",
       "    </tr>\n",
       "    <tr>\n",
       "      <th>LogisticRegression (words)</th>\n",
       "      <td>C = 1</td>\n",
       "      <td>0.949719</td>\n",
       "      <td>0.974984</td>\n",
       "      <td>0.958222</td>\n",
       "      <td>0.925520</td>\n",
       "    </tr>\n",
       "    <tr>\n",
       "      <th>LogisticRegression (words)</th>\n",
       "      <td>C = 10</td>\n",
       "      <td>0.952819</td>\n",
       "      <td>0.975504</td>\n",
       "      <td>0.961683</td>\n",
       "      <td>0.931089</td>\n",
       "    </tr>\n",
       "  </tbody>\n",
       "</table>\n",
       "</div>"
      ],
      "text/plain": [
       "                                   Param  Accuracy    Recall  Precision   ROC AUC\n",
       "Model                                                                            \n",
       "MultinomialNB (words)       alpha = 0.01  0.928516  0.957856   0.946766  0.900412\n",
       "MultinomialNB (words)        alpha = 0.1  0.927783  0.956717   0.946851  0.900068\n",
       "LogisticRegression (words)         C = 1  0.949719  0.974984   0.958222  0.925520\n",
       "LogisticRegression (words)        C = 10  0.952819  0.975504   0.961683  0.931089"
      ]
     },
     "execution_count": 9,
     "metadata": {},
     "output_type": "execute_result"
    }
   ],
   "source": [
    "from sklearn.feature_extraction.text import CountVectorizer\n",
    "features_model = ' (words)'\n",
    "vect = CountVectorizer().fit(X_train)\n",
    "X_train_transformed = vect.transform(X_train)\n",
    "X_test_transformed = vect.transform(X_test)\n",
    "\n",
    "test_models()\n",
    "metrics.set_index('Model')"
   ]
  },
  {
   "cell_type": "markdown",
   "metadata": {},
   "source": [
    "By all metrics, the best performing algorithm with **Feature Specification 1** is the Logistic Regression with C = 10 (henceforth **baseline**)."
   ]
  },
  {
   "cell_type": "markdown",
   "metadata": {},
   "source": [
    "### Feature Specification 2:  words and bigrams as features\n",
    "Ignoring terms that have a document frequency strictly lower than 2"
   ]
  },
  {
   "cell_type": "code",
   "execution_count": 10,
   "metadata": {},
   "outputs": [
    {
     "data": {
      "text/html": [
       "<div>\n",
       "<style scoped>\n",
       "    .dataframe tbody tr th:only-of-type {\n",
       "        vertical-align: middle;\n",
       "    }\n",
       "\n",
       "    .dataframe tbody tr th {\n",
       "        vertical-align: top;\n",
       "    }\n",
       "\n",
       "    .dataframe thead th {\n",
       "        text-align: right;\n",
       "    }\n",
       "</style>\n",
       "<table border=\"1\" class=\"dataframe\">\n",
       "  <thead>\n",
       "    <tr style=\"text-align: right;\">\n",
       "      <th></th>\n",
       "      <th>Param</th>\n",
       "      <th>Accuracy</th>\n",
       "      <th>Recall</th>\n",
       "      <th>Precision</th>\n",
       "      <th>ROC AUC</th>\n",
       "    </tr>\n",
       "    <tr>\n",
       "      <th>Model</th>\n",
       "      <th></th>\n",
       "      <th></th>\n",
       "      <th></th>\n",
       "      <th></th>\n",
       "      <th></th>\n",
       "    </tr>\n",
       "  </thead>\n",
       "  <tbody>\n",
       "    <tr>\n",
       "      <th>MultinomialNB (ngrams)</th>\n",
       "      <td>alpha = 0.01</td>\n",
       "      <td>0.963478</td>\n",
       "      <td>0.976235</td>\n",
       "      <td>0.974755</td>\n",
       "      <td>0.951258</td>\n",
       "    </tr>\n",
       "    <tr>\n",
       "      <th>MultinomialNB (ngrams)</th>\n",
       "      <td>alpha = 0.1</td>\n",
       "      <td>0.962138</td>\n",
       "      <td>0.972846</td>\n",
       "      <td>0.976223</td>\n",
       "      <td>0.951880</td>\n",
       "    </tr>\n",
       "    <tr>\n",
       "      <th>LogisticRegression (ngrams)</th>\n",
       "      <td>C = 1</td>\n",
       "      <td>0.979425</td>\n",
       "      <td>0.988357</td>\n",
       "      <td>0.984081</td>\n",
       "      <td>0.970870</td>\n",
       "    </tr>\n",
       "    <tr>\n",
       "      <th>LogisticRegression (ngrams)</th>\n",
       "      <td>C = 10</td>\n",
       "      <td>0.980189</td>\n",
       "      <td>0.988610</td>\n",
       "      <td>0.984843</td>\n",
       "      <td>0.972124</td>\n",
       "    </tr>\n",
       "  </tbody>\n",
       "</table>\n",
       "</div>"
      ],
      "text/plain": [
       "                                    Param  Accuracy    Recall  Precision   ROC AUC\n",
       "Model                                                                             \n",
       "MultinomialNB (ngrams)       alpha = 0.01  0.963478  0.976235   0.974755  0.951258\n",
       "MultinomialNB (ngrams)        alpha = 0.1  0.962138  0.972846   0.976223  0.951880\n",
       "LogisticRegression (ngrams)         C = 1  0.979425  0.988357   0.984081  0.970870\n",
       "LogisticRegression (ngrams)        C = 10  0.980189  0.988610   0.984843  0.972124"
      ]
     },
     "execution_count": 10,
     "metadata": {},
     "output_type": "execute_result"
    }
   ],
   "source": [
    "features_model = ' (ngrams)'\n",
    "vect = CountVectorizer(min_df=2, ngram_range=(1,2)).fit(X_train)\n",
    "X_train_transformed = vect.transform(X_train)\n",
    "X_test_transformed = vect.transform(X_test)\n",
    "\n",
    "metrics =  pd.DataFrame(columns = colnames)\n",
    "test_models()\n",
    "metrics.set_index('Model')"
   ]
  },
  {
   "cell_type": "markdown",
   "metadata": {},
   "source": [
    "All models with **Feature Specification 2** perform better than baseline. By all metrics, both Logistic Regression algorithms are superior to their Naive-Bayes counterparts. Logistic Regression with C = 10 performs slightly better than the rest in the test dataset. "
   ]
  },
  {
   "cell_type": "markdown",
   "metadata": {},
   "source": [
    "### Explore new features\n",
    "\n",
    "#### Find indexes of positive and negative ratings in training set for additional feature search"
   ]
  },
  {
   "cell_type": "code",
   "execution_count": 11,
   "metadata": {},
   "outputs": [],
   "source": [
    "negs = y_train == 0\n",
    "negs = [i for i, x in enumerate(negs) if x]\n",
    "pves = y_train == 1\n",
    "pves = [i for i, x in enumerate(pves) if x]"
   ]
  },
  {
   "cell_type": "markdown",
   "metadata": {},
   "source": [
    "### Compare lenghts (number of characters) between positive and negative reviews"
   ]
  },
  {
   "cell_type": "code",
   "execution_count": 12,
   "metadata": {},
   "outputs": [
    {
     "name": "stdout",
     "output_type": "stream",
     "text": [
      "Average Length \n",
      "Negative Reviews:  263.17817286125137 chars \n",
      "Positive Reviews:  191.3913533482978 chars\n"
     ]
    }
   ],
   "source": [
    "doc_lengths = np.array([len(d) for d in X_train])\n",
    "mean_len_negs = np.mean(doc_lengths[negs])\n",
    "mean_len_pves = np.mean(doc_lengths[pves])\n",
    "print('Average Length', '\\nNegative Reviews: ', mean_len_negs, 'chars',\n",
    "      '\\nPositive Reviews: ', mean_len_pves, 'chars')"
   ]
  },
  {
   "cell_type": "markdown",
   "metadata": {},
   "source": [
    "#### On average, negative reviews are longer\n",
    "\n",
    "### Compare digit counts between positive and negative reviews"
   ]
  },
  {
   "cell_type": "code",
   "execution_count": 13,
   "metadata": {},
   "outputs": [
    {
     "name": "stdout",
     "output_type": "stream",
     "text": [
      "Average digit counts \n",
      "Negative Reviews:  1.5064743845550495 digits \n",
      "Positive Reviews:  1.1745791245791246 digits\n"
     ]
    }
   ],
   "source": [
    "digits = X_train.str.findall('\\d')\n",
    "dig_counts = np.array([len(d) for d in digits])\n",
    "mean_dig_negs = np.mean(dig_counts[negs])\n",
    "mean_dig_pves = np.mean(dig_counts[pves])\n",
    "print('Average digit counts', '\\nNegative Reviews: ', mean_dig_negs, 'digits',\n",
    "      '\\nPositive Reviews: ', mean_dig_pves, 'digits')"
   ]
  },
  {
   "cell_type": "markdown",
   "metadata": {},
   "source": [
    "#### On average, negative reviews contain more digits\n",
    "\n",
    "### Compare non-alphanumeric characters between positive and negative reviews"
   ]
  },
  {
   "cell_type": "code",
   "execution_count": 14,
   "metadata": {},
   "outputs": [
    {
     "name": "stdout",
     "output_type": "stream",
     "text": [
      "Average non-alnum char counts \n",
      "Negative Reviews:  56.24064619999725 non-alnum chars \n",
      "Positive Reviews:  40.677506546950994 non-alnum chars\n"
     ]
    }
   ],
   "source": [
    "non_alnum = X_train.str.findall('\\W')\n",
    "non_alnum_counts = np.array([len(d) for d in non_alnum])\n",
    "mean_nw_negs = np.mean(non_alnum_counts[negs])\n",
    "mean_nw_pves = np.mean(non_alnum_counts[pves])\n",
    "print('Average non-alnum char counts', '\\nNegative Reviews: ', mean_nw_negs, \n",
    "      'non-alnum chars', '\\nPositive Reviews: ', mean_nw_pves, 'non-alnum chars')"
   ]
  },
  {
   "cell_type": "markdown",
   "metadata": {},
   "source": [
    "#### On average, negative reviews contain more non-alphanumeric characters"
   ]
  },
  {
   "cell_type": "markdown",
   "metadata": {},
   "source": [
    "#### Functions to transform original X_sets into sparse matrices with additional features"
   ]
  },
  {
   "cell_type": "code",
   "execution_count": 15,
   "metadata": {},
   "outputs": [],
   "source": [
    "from scipy.sparse import csr_matrix, hstack\n",
    "def add_features(X_sparse, new_features):\n",
    "    \"\"\"\n",
    "    Returns sparse feature matrix with new feature added.\n",
    "    new_features can be a feature or a list of features.\n",
    "    \"\"\"\n",
    "    return hstack([X_sparse, csr_matrix(new_features).T], 'csr')\n",
    "\n",
    "def transform_X(X, new_features):\n",
    "    X_vectorized  = vect.transform(X)\n",
    "    X_transformed = add_features(X_vectorized, new_features)\n",
    "    return X_transformed\n",
    "\n",
    "from sklearn.preprocessing import MinMaxScaler\n",
    "def vector_scaler(x):\n",
    "    return MinMaxScaler().fit_transform(x.reshape(-1, 1))[:,0]"
   ]
  },
  {
   "cell_type": "markdown",
   "metadata": {},
   "source": [
    "### Feature Specification 3: \n",
    "Same as **Feature Specification 2** with review length feature added\n",
    "#### Calculate the new feature (review length) for the test set\n",
    "Of the three extra features explored, length seems to be the one that could improve prediction performance. The differences in the other variables do not seem large enough."
   ]
  },
  {
   "cell_type": "code",
   "execution_count": 16,
   "metadata": {},
   "outputs": [],
   "source": [
    "doc_lengths_test = np.array([len(d) for d in X_test])\n",
    "import warnings\n",
    "warnings.filterwarnings('ignore')\n",
    "doc_lengths = vector_scaler(doc_lengths)\n",
    "doc_lengths_test = vector_scaler(doc_lengths_test)"
   ]
  },
  {
   "cell_type": "code",
   "execution_count": 17,
   "metadata": {},
   "outputs": [
    {
     "data": {
      "text/html": [
       "<div>\n",
       "<style scoped>\n",
       "    .dataframe tbody tr th:only-of-type {\n",
       "        vertical-align: middle;\n",
       "    }\n",
       "\n",
       "    .dataframe tbody tr th {\n",
       "        vertical-align: top;\n",
       "    }\n",
       "\n",
       "    .dataframe thead th {\n",
       "        text-align: right;\n",
       "    }\n",
       "</style>\n",
       "<table border=\"1\" class=\"dataframe\">\n",
       "  <thead>\n",
       "    <tr style=\"text-align: right;\">\n",
       "      <th></th>\n",
       "      <th>Param</th>\n",
       "      <th>Accuracy</th>\n",
       "      <th>Recall</th>\n",
       "      <th>Precision</th>\n",
       "      <th>ROC AUC</th>\n",
       "    </tr>\n",
       "    <tr>\n",
       "      <th>Model</th>\n",
       "      <th></th>\n",
       "      <th></th>\n",
       "      <th></th>\n",
       "      <th></th>\n",
       "      <th></th>\n",
       "    </tr>\n",
       "  </thead>\n",
       "  <tbody>\n",
       "    <tr>\n",
       "      <th>LogisticRegression (ngrams +)</th>\n",
       "      <td>C = 1</td>\n",
       "      <td>0.979394</td>\n",
       "      <td>0.988343</td>\n",
       "      <td>0.984053</td>\n",
       "      <td>0.970822</td>\n",
       "    </tr>\n",
       "    <tr>\n",
       "      <th>LogisticRegression (ngrams +)</th>\n",
       "      <td>C = 10</td>\n",
       "      <td>0.979320</td>\n",
       "      <td>0.988075</td>\n",
       "      <td>0.984214</td>\n",
       "      <td>0.970934</td>\n",
       "    </tr>\n",
       "  </tbody>\n",
       "</table>\n",
       "</div>"
      ],
      "text/plain": [
       "                                Param  Accuracy    Recall  Precision   ROC AUC\n",
       "Model                                                                         \n",
       "LogisticRegression (ngrams +)   C = 1  0.979394  0.988343   0.984053  0.970822\n",
       "LogisticRegression (ngrams +)  C = 10  0.979320  0.988075   0.984214  0.970934"
      ]
     },
     "execution_count": 17,
     "metadata": {},
     "output_type": "execute_result"
    }
   ],
   "source": [
    "features_model = ' (ngrams +)'\n",
    "vect = CountVectorizer(min_df=2, ngram_range=(1,2)).fit(X_train)\n",
    "\n",
    "X_train_transformed = transform_X(X_train, doc_lengths)\n",
    "X_test_transformed = transform_X(X_test, doc_lengths_test)\n",
    "\n",
    "metrics =  pd.DataFrame(columns = colnames)\n",
    "for param in [1, 10]:\n",
    "    notes = 'C = ' + str(param)\n",
    "    get_metrics(X_test_transformed, LogisticRegression(C = param), notes)\n",
    "metrics.set_index('Model')"
   ]
  },
  {
   "cell_type": "markdown",
   "metadata": {},
   "source": [
    "Adding the new feature in **Feature Specification 3** shows no performance improvement on the Linear Regression."
   ]
  },
  {
   "cell_type": "markdown",
   "metadata": {},
   "source": [
    "#### Define function to extract important features"
   ]
  },
  {
   "cell_type": "code",
   "execution_count": 18,
   "metadata": {},
   "outputs": [],
   "source": [
    "def sm_lg(measure, num = 10):\n",
    "    '''\n",
    "    Retrieves the features with the smallest and largest specified measure.\n",
    "    measure could be i.e. model coefficients or tfidf index.\n",
    "    num specifies the number of features to be returned\n",
    "    '''\n",
    "    sorted_index   = measure.argsort()\n",
    "    sm_index = sorted_index[:num]\n",
    "    lg_index  = sorted_index[:-(num+1):-1]\n",
    "    sm_series = pd.Series(measure[sm_index], index = feature_names[sm_index])\n",
    "    sm_series = sm_series.iloc[np.lexsort([sm_series.index, sm_series.values])]\n",
    "    lg_series  = pd.Series(measure[lg_index], index = feature_names[lg_index])\n",
    "    lg_series  = lg_series.iloc[np.lexsort([lg_series.index, -lg_series.values])]\n",
    "    return sm_series, lg_series"
   ]
  },
  {
   "cell_type": "markdown",
   "metadata": {},
   "source": [
    "### Important features\n",
    "Important features fot the best performing model, the Logistic Regression with Feature Specification 2 and C = 10."
   ]
  },
  {
   "cell_type": "code",
   "execution_count": 19,
   "metadata": {},
   "outputs": [],
   "source": [
    "vect = CountVectorizer(min_df=2, ngram_range=(1,2)).fit(X_train)\n",
    "X_train_transformed = vect.transform(X_train)\n",
    "X_test_transformed = vect.transform(X_test)\n",
    "\n",
    "feature_names = np.array(vect.get_feature_names())\n",
    "\n",
    "model = LogisticRegression(C = 10)\n",
    "model.fit(X_train_transformed, y_train)\n",
    "\n",
    "important_features = sm_lg(model.coef_[0], 12)\n",
    "most_neg = important_features[0]\n",
    "most_pve = important_features[1]"
   ]
  },
  {
   "cell_type": "markdown",
   "metadata": {},
   "source": [
    "### Plot most important features"
   ]
  },
  {
   "cell_type": "code",
   "execution_count": 20,
   "metadata": {},
   "outputs": [
    {
     "data": {
      "image/png": "[encoded data removed]",
      "text/plain": [
       "<matplotlib.figure.Figure at 0x1a2d10de10>"
      ]
     },
     "metadata": {},
     "output_type": "display_data"
    }
   ],
   "source": [
    "import matplotlib.pyplot as plt\n",
    "%matplotlib inline\n",
    "\n",
    "sentiments = [most_pve, most_neg]\n",
    "\n",
    "fig, (ax1, ax2) = plt.subplots(2, 1)\n",
    "fig.tight_layout()\n",
    "axs = [ax1,ax2]\n",
    "fig.set_size_inches(8, 6)\n",
    "fig.suptitle('Influential Features \\n(Logistic Regression Coefficients)', \n",
    "             fontsize=15, color = '0.4')\n",
    "ax1.set_yticks(range(0, 7, 2))\n",
    "ax2.set_yticks(range(-6, 1, 2))\n",
    "\n",
    "for n in range(0,len(axs)):\n",
    "    sentiment = sentiments[n]\n",
    "    w = np.arange(len(sentiment))\n",
    "    axs[n].bar(w, sentiment.values, align='center', alpha=0.55)\n",
    "    axs[n].tick_params(length=2, width=0.5, colors='0.55', labelsize = 10)\n",
    "    axs[n].set_xticks(np.arange(len(sentiment)))\n",
    "    axs[n].set_xticklabels(sentiment.index, rotation=20)\n",
    "    xmin = min(w) - 0.4\n",
    "    xmax = max(w) + 0.4\n",
    "    axs[n].set_xlim(xmin, xmax)\n",
    "    for spine in axs[n].spines.values():\n",
    "        spine.set_edgecolor('#e6e6e6')\n",
    "    axs[n].spines['top'].set_visible(False)\n",
    "    axs[n].spines['right'].set_visible(False)"
   ]
  },
  {
   "cell_type": "markdown",
   "metadata": {},
   "source": [
    "### Conclusion\n",
    "The best performing algorithm is a Logistic Regression Model that includes words and bigrams as features and regularization parameter C = 10. Additional features, such as review length did not improve performance. "
   ]
  }
 ],
 "metadata": {
  "kernelspec": {
   "display_name": "Python 3",
   "language": "python",
   "name": "python3"
  },
  "language_info": {
   "codemirror_mode": {
    "name": "ipython",
    "version": 3
   },
   "file_extension": ".py",
   "mimetype": "text/x-python",
   "name": "python",
   "nbconvert_exporter": "python",
   "pygments_lexer": "ipython3",
   "version": "3.6.4"
  }
 },
 "nbformat": 4,
 "nbformat_minor": 2
}
